{
 "metadata": {
  "name": "getting-started"
 },
 "nbformat": 3,
 "nbformat_minor": 0,
 "worksheets": [
  {
   "cells": [
    {
     "cell_type": "markdown",
     "metadata": {},
     "source": [
      "# IPython Notebook\n",
      "\n",
      "This is an IPython Notebook, an online scientific notebook which combines, text, data, images, and programming. It is amazing, and could be a fantastic way to do and communicate advanced LCA work.\n",
      "\n",
      "* [Documentation](http://ipython.org/ipython-doc/dev/interactive/htmlnotebook.html)\n",
      "* [Very long awesomeness](https://www.youtube.com/watch?v=2G5YTlheCbw)\n",
      "* [Sharable awesomeness](http://nbviewer.ipython.org/)\n",
      "* [Just plain amazing awesomeness](http://nbviewer.ipython.org/url/epi.whoi.edu/esr/GIS_GRASS-R_Example.ipynb)\n",
      "* [Hacker News discussion](http://news.ycombinator.com/item?id=4909070)\n",
      "\n",
      "You can also download the [ipython file](/examples/getting-started.ipynb) and run it yourself."
     ]
    },
    {
     "cell_type": "markdown",
     "metadata": {},
     "source": [
      "# Getting started with Brightway2\n",
      "\n",
      "This guide assumes that you have already started the Brightway2 web UI (bw2-web.py), and set up your data directory and imported the base data. This is the first thing you will do after the web UI starts.\n",
      "\n",
      "This guide will teach you how to some simple tasks in Brightway2."
     ]
    },
    {
     "cell_type": "code",
     "collapsed": false,
     "input": [
      "from brightway2 import *\n",
      "print \"Data directory:\"\n",
      "print config.dir"
     ],
     "language": "python",
     "metadata": {},
     "outputs": [
      {
       "output_type": "stream",
       "stream": "stdout",
       "text": [
        "Data directory:\n",
        "/Users/cmutel/brightway2\n"
       ]
      }
     ],
     "prompt_number": 1
    },
    {
     "cell_type": "markdown",
     "metadata": {},
     "source": [
      "## Database manipulation\n",
      "\n",
      "Let's start by defining a *very* simple database, to show how they can be manipulated."
     ]
    },
    {
     "cell_type": "code",
     "collapsed": false,
     "input": [
      "example_data = {\n",
      "    (\"example\", \"A\"): {\n",
      "        \"code\": \"A\",\n",
      "        \"name\": \"A\",\n",
      "        \"categories\": [\"a category\"],\n",
      "        \"type\": \"process\",\n",
      "        \"unit\": \"kg\",\n",
      "        \"exchanges\": [{\n",
      "            \"amount\": 1.0,\n",
      "            \"input\": (\"example\", \"B\"),\n",
      "            \"uncertainty type\": 0,\n",
      "            \"type\": \"technosphere\"\n",
      "            }]\n",
      "        },\n",
      "    (\"example\", \"B\"): {\n",
      "        \"code\": \"B\",\n",
      "        \"name\": \"B\",\n",
      "        \"categories\": [\"another category\"],\n",
      "        \"type\": \"process\",\n",
      "        \"unit\": \"kg\",\n",
      "        \"exchanges\": []\n",
      "        }\n",
      "    }\n",
      "\n",
      "db = Database(\"example\")\n",
      "if \"example\" not in databases:\n",
      "    # This will raise an error if you run in twice - databases can only be registered once\n",
      "    db.register(format=\"handmade\", depends=[], num_processes=2)\n",
      "db.write(example_data)\n",
      "print databases.list"
     ],
     "language": "python",
     "metadata": {},
     "outputs": [
      {
       "output_type": "stream",
       "stream": "stdout",
       "text": [
        "[u'a copy', u'biosphere', u'ecoinvent 2.2', u'example', u'simple-b', u'simple-t']\n"
       ]
      }
     ],
     "prompt_number": 2
    },
    {
     "cell_type": "markdown",
     "metadata": {},
     "source": [
      "Make sure that the example data is valid (will raise an exception if it isn't)."
     ]
    },
    {
     "cell_type": "code",
     "collapsed": false,
     "input": [
      "from bw2data.validate import db_validator\n",
      "db_validator(example_data)"
     ],
     "language": "python",
     "metadata": {},
     "outputs": [
      {
       "output_type": "pyout",
       "prompt_number": 3,
       "text": [
        "{('example', 'A'): {'categories': ['a category'],\n",
        "  'code': 'A',\n",
        "  'exchanges': [{'amount': 1.0,\n",
        "    'input': ('example', 'B'),\n",
        "    'type': 'technosphere',\n",
        "    'uncertainty type': 0}],\n",
        "  'name': 'A',\n",
        "  'type': 'process',\n",
        "  'unit': u'kilogram'},\n",
        " ('example', 'B'): {'categories': ['another category'],\n",
        "  'code': 'B',\n",
        "  'exchanges': [],\n",
        "  'name': 'B',\n",
        "  'type': 'process',\n",
        "  'unit': u'kilogram'}}"
       ]
      }
     ],
     "prompt_number": 3
    },
    {
     "cell_type": "markdown",
     "metadata": {},
     "source": [
      "Get the database metadata, then backup, modify, and revert this database."
     ]
    },
    {
     "cell_type": "code",
     "collapsed": false,
     "input": [
      "print \"Metadata:\"\n",
      "print databases[\"example\"]\n",
      "print\n",
      "\n",
      "print \"Backup file location\"\n",
      "print db.backup()\n",
      "print\n",
      "\n",
      "import datetime\n",
      "print \"What versions are there?\"\n",
      "for version, timestamp in db.versions():\n",
      "    print \"Version:\", version, \"Taken:\", timestamp.isoformat()\n",
      "print\n",
      "\n",
      "db.write({})\n",
      "print \"Oops. We deleted the database\"\n",
      "print \"Here is what happens when we load it:\"\n",
      "print db.load()\n",
      "print\n",
      "\n",
      "print \"Let's see if we can restore it to the last known good state\"\n",
      "# -1 is the last element in a list; -2 is the second to last\n",
      "last_good_version = db.versions()[-2][0]\n",
      "db.revert(last_good_version)\n",
      "print \"Is the data back?\"\n",
      "import pprint\n",
      "pprint.pprint(db.load())"
     ],
     "language": "python",
     "metadata": {},
     "outputs": [
      {
       "output_type": "stream",
       "stream": "stdout",
       "text": [
        "Metadata:\n",
        "{u'from format': u'handmade', u'version': 2, u'depends': [], u'number': 2}\n",
        "\n",
        "Backup file location\n",
        "/Users/cmutel/brightway2/backups/example.2.pickle.1360875997.backup\n",
        "\n",
        "What versions are there?\n",
        "Version: 1 Taken: 2013-02-14T21:50:25\n",
        "Version: 2 Taken: 2013-02-14T22:06:37\n",
        "\n",
        "Oops. We deleted the database\n",
        "Here is what happens when we load it:\n",
        "{}\n",
        "\n",
        "Let's see if we can restore it to the last known good state\n",
        "Is the data back?\n",
        "{('example', 'A'): {'categories': ['a category'],\n",
        "                    'code': 'A',\n",
        "                    'exchanges': [{'amount': 1.0,\n",
        "                                   'input': ('example', 'B'),\n",
        "                                   'type': 'technosphere',\n",
        "                                   'uncertainty type': 0}],\n",
        "                    'name': 'A',\n",
        "                    'type': 'process',\n",
        "                    'unit': u'kilogram'},\n",
        " ('example', 'B'): {'categories': ['another category'],\n",
        "                    'code': 'B',\n",
        "                    'exchanges': [],\n",
        "                    'name': 'B',\n",
        "                    'type': 'process',\n",
        "                    'unit': u'kilogram'}}\n"
       ]
      }
     ],
     "prompt_number": 4
    },
    {
     "cell_type": "markdown",
     "metadata": {},
     "source": [
      "Copy the database, and check that the exchanges link to the copied database."
     ]
    },
    {
     "cell_type": "code",
     "collapsed": false,
     "input": [
      "# In case this is run twice, delete the copied database if it exists\n",
      "if \"a copy\" in databases:\n",
      "    del databases[\"a copy\"]\n",
      "new_db = db.copy(\"a copy\")\n",
      "import pprint\n",
      "pprint.pprint(new_db.load())"
     ],
     "language": "python",
     "metadata": {},
     "outputs": [
      {
       "output_type": "stream",
       "stream": "stdout",
       "text": [
        "{('a copy', 'A'): {'categories': ['a category'],\n",
        "                   'code': 'A',\n",
        "                   'exchanges': [{'amount': 1.0,\n",
        "                                  'input': ('a copy', 'B'),\n",
        "                                  'type': 'technosphere',\n",
        "                                  'uncertainty type': 0}],\n",
        "                   'name': 'A',\n",
        "                   'type': 'process',\n",
        "                   'unit': u'kilogram'},\n",
        " ('a copy', 'B'): {'categories': ['another category'],\n",
        "                   'code': 'B',\n",
        "                   'exchanges': [],\n",
        "                   'name': 'B',\n",
        "                   'type': 'process',\n",
        "                   'unit': u'kilogram'}}\n"
       ]
      },
      {
       "output_type": "stream",
       "stream": "stderr",
       "text": [
        "/Users/cmutel/local/bw2/lib/python2.7/site-packages/bw2data/database.py:43: UserWarning: \n",
        "\ta copy not a currently installed database\n",
        "  database, UserWarning)\n"
       ]
      }
     ],
     "prompt_number": 5
    },
    {
     "cell_type": "markdown",
     "metadata": {},
     "source": [
      "## Doing a calculation\n",
      "\n",
      "The following section shows a typical way to make some LCA calculations. This will only work if you have access to an ecoinvent database.\n",
      "\n",
      "You must change the **file path** to match where your ecoinvent data files are."
     ]
    },
    {
     "cell_type": "code",
     "collapsed": false,
     "input": [
      "if \"ecoinvent 2.2\" not in databases:\n",
      "    from bw2data.io import *\n",
      "    EcospoldImporter().importer(\"/Users/cmutel/Documents/LCA Documents/Ecoinvent/2.2/processes\", \"ecoinvent 2.2\")\n",
      "\n",
      "ei = Database(\"ecoinvent 2.2\")\n",
      "process_datasets = ei.load().keys()\n",
      "# Pick a random process for analysis\n",
      "a_random_process = process_datasets[42]\n",
      "print \"Random process:\"\n",
      "print ei.load()[a_random_process][\"name\"]\n",
      "print\n",
      "\n",
      "# Pick a random method for analysis\n",
      "method = (u'IPCC 2007', u'climate change', u'GWP 100a') # Not actually all that random...\n",
      "\n",
      "lca = LCA(demand={a_random_process: 1}, method=method)\n",
      "# Life cycle inventory\n",
      "lca.lci()\n",
      "# Life cycle impact assessment\n",
      "lca.lcia()\n",
      "\n",
      "print \"LCA score:\"\n",
      "print lca.score, methods[method][\"unit\"]\n",
      "print\n",
      "\n",
      "from bw2analyzer import *\n",
      "print \"Most important activities\"\n",
      "pprint.pprint(ContributionAnalysis().annotated_top_processes(lca))\n",
      "print\n",
      "\n",
      "print \"Most important biosphere flows\"\n",
      "pprint.pprint(ContributionAnalysis().annotated_top_emissions(lca))"
     ],
     "language": "python",
     "metadata": {},
     "outputs": [
      {
       "output_type": "stream",
       "stream": "stdout",
       "text": [
        "Random process:\n",
        "natural gas, burned in gas turbine, for compressor station\n",
        "\n",
        "LCA score:"
       ]
      },
      {
       "output_type": "stream",
       "stream": "stdout",
       "text": [
        "\n",
        "0.0591028658919 kg CO2-Eq\n",
        "\n",
        "Most important activities\n",
        "[(0.056473541543774583,\n",
        "  'natural gas, burned in gas turbine, for compressor station'),\n",
        " (0.00083917305246481919, 'natural gas, at production onshore'),\n",
        " (0.00067912373766520063, 'sweet gas, burned in gas turbine, production'),\n",
        " (0.00047281400273179613, 'drying, natural gas'),\n",
        " (0.00017367241972249378, 'natural gas, sweet, burned in production flare'),\n",
        " (0.00014698624276412317, 'diesel, burned in diesel-electric generating set'),\n",
        " (5.7334885939914668e-05, 'pig iron, at plant'),\n",
        " (2.0953030911989163e-05, 'clinker, at plant'),\n",
        " (1.7285753754942903e-05, 'sinter, iron, at plant'),\n",
        " (1.5585592105653486e-05, 'diesel, burned in building machine'),\n",
        " (1.2284579247984378e-05, 'natural gas, burned in industrial furnace >100kW'),\n",
        " (1.0229071072200276e-05, 'lignite, burned in power plant'),\n",
        " (1.0149145605360401e-05, 'crude oil, used in drilling tests'),\n",
        " (8.5712679021934372e-06, 'quicklime, in pieces, loose, at plant'),\n",
        " (8.4845928460392368e-06,\n",
        "  'heavy fuel oil, burned in industrial furnace 1MW, non-modulating'),\n",
        " (8.1924758517570989e-06, 'natural gas, vented'),\n",
        " (8.1350810471516941e-06, 'refinery gas, burned in furnace'),\n",
        " (7.2991222041457437e-06, 'hard coal, burned in power plant'),\n",
        " (7.1708596390774553e-06, 'hard coal, burned in power plant'),\n",
        " (6.1520654477402294e-06, 'steel, converter, unalloyed, at plant'),\n",
        " (5.5043582828360828e-06, 'hard coal, at mine'),\n",
        " (5.0878847761142782e-06, 'hard coal, burned in power plant'),\n",
        " (5.0847057652345699e-06, 'hard coal, at mine'),\n",
        " (4.7017282397515697e-06, 'operation, transoceanic freight ship'),\n",
        " (4.29965193121878e-06, 'lignite, burned in power plant')]\n",
        "\n",
        "Most important biosphere flows\n",
        "["
       ]
      },
      {
       "output_type": "stream",
       "stream": "stdout",
       "text": [
        "(0.056076761331668917, u'Carbon dioxide, fossil'),\n",
        " (0.0015331082745260734, u'Carbon dioxide, fossil'),\n",
        " (0.00088007428225494186, u'Methane, fossil'),\n",
        " (0.00030013115304192975, u'Dinitrogen monoxide'),\n",
        " (0.00011993086383748617, u'Carbon dioxide, fossil'),\n",
        " (0.00011360078179606895, u'Methane, fossil'),\n",
        " (6.2921000088524311e-05, u'Carbon monoxide, fossil'),\n",
        " (4.7131097194717296e-06, u'Carbon monoxide, fossil'),\n",
        " (4.6270155070855194e-06, u'Dinitrogen monoxide'),\n",
        " (3.8726020454752114e-06, u'Carbon monoxide, fossil'),\n",
        " (1.3188503039167448e-06, u'Dinitrogen monoxide'),\n",
        " (7.5062315103496306e-07, u'Sulfur hexafluoride'),\n",
        " (6.806127691168925e-07, u'Methane, biogenic'),\n",
        " (1.3171661821285406e-07, u'Methane, tetrafluoro-, R-14'),\n",
        " (8.4164000986066535e-08, u'Methane, biogenic'),\n",
        " (4.7755316604926348e-08, u'Methane, fossil'),\n",
        " (2.4160727877795546e-08, u'Ethane, hexafluoro-, HFC-116'),\n",
        " (2.1580785345669547e-08, u'Carbon dioxide, land transformation'),\n",
        " (1.8793259466514951e-08, u'Methane, bromotrifluoro-, Halon 1301'),\n",
        " (1.5435531780694752e-08, u'Ethane, 1,1,1,2-tetrafluoro-, HFC-134a'),\n",
        " (1.3503026089185183e-08,\n",
        "  u'Ethane, 1,2-dichloro-1,1,2,2-tetrafluoro-, CFC-114'),\n",
        " (6.8555741530457537e-09, u'Methane, chlorodifluoro-, HCFC-22'),\n",
        " (6.5254783034115004e-09, u'Methane, biogenic'),\n",
        " (2.0024286481627686e-09, u'Methane, bromochlorodifluoro-, Halon 1211'),\n",
        " (1.9580483790643472e-09, u'Methane, tetrachloro-, R-10')]\n"
       ]
      }
     ],
     "prompt_number": 6
    },
    {
     "cell_type": "markdown",
     "metadata": {},
     "source": [
      "## Monte Carlo\n",
      "\n",
      "We can also do a simple Monte Carlo analysis with our random process"
     ]
    },
    {
     "cell_type": "code",
     "collapsed": false,
     "input": [
      "mc = MonteCarloLCA(demand={a_random_process: 1}, method=method)\n",
      "mc_results = [mc.iterate() for x in xrange(500)]\n",
      "from matplotlib.pylab import *\n",
      "hist(mc_results, normed=True, histtype=\"step\")\n",
      "xlabel(methods[method][\"unit\"])\n",
      "ylabel(\"Probability\")"
     ],
     "language": "python",
     "metadata": {},
     "outputs": [
      {
       "output_type": "pyout",
       "prompt_number": 7,
       "text": [
        "<matplotlib.text.Text at 0x118fa4690>"
       ]
      },
      {
       "output_type": "display_data",
       "png": "[encoded data removed]"
      }
     ],
     "prompt_number": 7
    },
    {
     "cell_type": "code",
     "collapsed": false,
     "input": [],
     "language": "python",
     "metadata": {},
     "outputs": [],
     "prompt_number": 7
    }
   ],
   "metadata": {}
  }
 ]
}